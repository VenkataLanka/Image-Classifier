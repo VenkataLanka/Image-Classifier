{
 "cells": [
  {
   "cell_type": "code",
   "execution_count": 22,
   "metadata": {},
   "outputs": [
    {
     "name": "stdout",
     "output_type": "stream",
     "text": [
      "Found 603 images belonging to 7 classes.\n",
      "Found 144 images belonging to 7 classes.\n",
      "Epoch 1/15\n",
      "11/20 [===============>..............] - ETA: 21s - loss: 1.9776 - acc: 0.1676"
     ]
    },
    {
     "name": "stderr",
     "output_type": "stream",
     "text": [
      "C:\\Users\\ravit\\Anaconda\\lib\\site-packages\\PIL\\Image.py:918: UserWarning: Palette images with Transparency   expressed in bytes should be converted to RGBA images\n",
      "  'to RGBA images')\n"
     ]
    },
    {
     "name": "stdout",
     "output_type": "stream",
     "text": [
      "20/20 [==============================] - 51s 3s/step - loss: 1.9196 - acc: 0.1915 - val_loss: 1.8400 - val_acc: 0.2708\n",
      "Epoch 2/15\n",
      "20/20 [==============================] - 48s 2s/step - loss: 1.7844 - acc: 0.2330 - val_loss: 1.8393 - val_acc: 0.2708\n",
      "Epoch 3/15\n",
      "20/20 [==============================] - 48s 2s/step - loss: 1.7309 - acc: 0.2872 - val_loss: 1.6631 - val_acc: 0.3333\n",
      "Epoch 4/15\n",
      "20/20 [==============================] - 56s 3s/step - loss: 1.6671 - acc: 0.3104 - val_loss: 1.6194 - val_acc: 0.3472\n",
      "Epoch 5/15\n",
      "20/20 [==============================] - 58s 3s/step - loss: 1.5974 - acc: 0.3579 - val_loss: 1.6910 - val_acc: 0.3472\n",
      "Epoch 6/15\n",
      "20/20 [==============================] - 67s 3s/step - loss: 1.5924 - acc: 0.3875 - val_loss: 1.6089 - val_acc: 0.3472\n",
      "Epoch 7/15\n",
      "20/20 [==============================] - 59s 3s/step - loss: 1.5118 - acc: 0.3813 - val_loss: 1.8017 - val_acc: 0.2847\n",
      "Epoch 8/15\n",
      "20/20 [==============================] - 52s 3s/step - loss: 1.5316 - acc: 0.4063 - val_loss: 1.5591 - val_acc: 0.4028\n",
      "Epoch 9/15\n",
      "20/20 [==============================] - 48s 2s/step - loss: 1.4303 - acc: 0.4373 - val_loss: 1.5233 - val_acc: 0.4167\n",
      "Epoch 10/15\n",
      "20/20 [==============================] - 49s 2s/step - loss: 1.3611 - acc: 0.4634 - val_loss: 1.4046 - val_acc: 0.4375\n",
      "Epoch 11/15\n",
      "20/20 [==============================] - 49s 2s/step - loss: 1.2449 - acc: 0.5089 - val_loss: 1.5558 - val_acc: 0.4722\n",
      "Epoch 12/15\n",
      "20/20 [==============================] - 51s 3s/step - loss: 1.2179 - acc: 0.5129 - val_loss: 1.4820 - val_acc: 0.5000\n",
      "Epoch 13/15\n",
      "20/20 [==============================] - 57s 3s/step - loss: 1.1819 - acc: 0.5168 - val_loss: 1.3738 - val_acc: 0.5556\n",
      "Epoch 14/15\n",
      "20/20 [==============================] - 56s 3s/step - loss: 1.0782 - acc: 0.5793 - val_loss: 1.5452 - val_acc: 0.5208\n",
      "Epoch 15/15\n",
      "20/20 [==============================] - 53s 3s/step - loss: 1.2012 - acc: 0.5382 - val_loss: 1.6249 - val_acc: 0.4722\n"
     ]
    }
   ],
   "source": [
    "# Convolutional Neural Network\n",
    "\n",
    "# Importing the Keras libraries and packages\n",
    "from keras.models import Sequential\n",
    "from keras.layers import Conv2D\n",
    "from keras.layers import MaxPooling2D\n",
    "from keras.layers import Flatten\n",
    "from keras.layers import Dense\n",
    "from keras.utils import to_categorical\n",
    "\n",
    "\n",
    "# Initialising the CNN\n",
    "classifier = Sequential()\n",
    "\n",
    "# Step 1 - Convolution\n",
    "classifier.add(Conv2D(32, (3, 3), input_shape = (128,128, 3), activation = 'relu'))\n",
    "\n",
    "# Step 2 - Pooling\n",
    "classifier.add(MaxPooling2D(pool_size = (2, 2)))\n",
    "\n",
    "# Adding a second convolutional layer\n",
    "classifier.add(Conv2D(64, (3, 3), activation = 'relu'))\n",
    "\n",
    "#Pooling Layer\n",
    "classifier.add(MaxPooling2D(pool_size = (2, 2)))\n",
    "\n",
    "#Adding a third convolution layer\n",
    "classifier.add(Conv2D(128, (3, 3), activation = 'relu'))\n",
    "\n",
    "#Pooling Layer\n",
    "classifier.add(MaxPooling2D(pool_size = (2, 2)))\n",
    "\n",
    "#Adding a fourth convolution layer\n",
    "classifier.add(Conv2D(256, (3, 3), activation = 'relu'))\n",
    "\n",
    "#Pooling Layer\n",
    "classifier.add(MaxPooling2D(pool_size = (2, 2)))\n",
    "\n",
    "#Adding a fourth convolution layer\n",
    "classifier.add(Conv2D(256, (3, 3), activation = 'relu'))\n",
    "\n",
    "\n",
    "# Step 3 - Flattening\n",
    "classifier.add(Flatten())\n",
    "\n",
    "# Step 4 - Full connection\n",
    "classifier.add(Dense(units = 128, activation = 'relu'))\n",
    "classifier.add(Dense(units =7, activation = 'softmax'))\n",
    "\n",
    "# Compiling the CNN\n",
    "classifier.compile(optimizer = 'adam', loss = 'categorical_crossentropy', metrics = ['accuracy'])\n",
    "\n",
    "# Part 2 - Fitting the CNN to the images\n",
    "\n",
    "from keras.preprocessing.image import ImageDataGenerator\n",
    "\n",
    "train_datagen = ImageDataGenerator(rescale = 1./255,\n",
    "                                   shear_range = 0.2,\n",
    "                                   zoom_range = 0.2,\n",
    "                                   horizontal_flip = True)\n",
    "\n",
    "test_datagen = ImageDataGenerator(rescale = 1./255)\n",
    "\n",
    "training_set = train_datagen.flow_from_directory('dataset/train_dog',\n",
    "                                                 target_size = (128, 128),\n",
    "                                                 batch_size = 32,\n",
    "                                                 class_mode = 'categorical')\n",
    "\n",
    "test_set = test_datagen.flow_from_directory('dataset/test_dog',\n",
    "                                            target_size = (128,128),\n",
    "                                            batch_size =32,\n",
    "                                            class_mode = 'categorical')\n",
    "\n",
    "history=classifier.fit_generator(training_set,\n",
    "                         steps_per_epoch = 20,\n",
    "                         epochs =15,\n",
    "                         validation_data = test_set,\n",
    "                         validation_steps = 5)"
   ]
  },
  {
   "cell_type": "code",
   "execution_count": 50,
   "metadata": {},
   "outputs": [
    {
     "name": "stdout",
     "output_type": "stream",
     "text": [
      "{'Beagle': 0, 'Dalmation': 1, 'Dobberman': 2, 'German': 3, 'Golden': 4, 'ShihTzu': 5, 'french-bulldog': 6}\n",
      "[[0.000000e+00 0.000000e+00 2.264855e-11 1.000000e+00 0.000000e+00\n",
      "  0.000000e+00 0.000000e+00]]\n"
     ]
    }
   ],
   "source": [
    "import numpy as np\n",
    "from keras.preprocessing import image\n",
    "test_image = image.load_img('dob6.jpg', target_size = (128,128))\n",
    "test_image = image.img_to_array(test_image)\n",
    "test_image = np.expand_dims(test_image, axis = 0)\n",
    "result = classifier.predict(test_image)\n",
    "print(training_set.class_indices)\n",
    "print(result)"
   ]
  },
  {
   "cell_type": "markdown",
   "metadata": {},
   "source": [
    "\n",
    "plt.plot(history.history['acc'])\n",
    "plt.plot(history.history['val_acc'])\n",
    "plt.title('model accuracy')\n",
    "plt.ylabel('accuracy')\n",
    "plt.xlabel('epoch')\n",
    "plt.legend(['train', 'test'], loc='upper left')\n",
    "plt.show()"
   ]
  },
  {
   "cell_type": "code",
   "execution_count": 2,
   "metadata": {},
   "outputs": [
    {
     "data": {
      "text/plain": [
       "<Figure size 640x480 with 1 Axes>"
      ]
     },
     "metadata": {},
     "output_type": "display_data"
    }
   ],
   "source": [
    "import matplotlib.pyplot as plt\n",
    "import matplotlib.image as mpimg\n",
    "image = mpimg.imread(\"bull.jpg\")\n",
    "plt.imshow(image)\n",
    "plt.show()\n",
    "\n"
   ]
  },
  {
   "cell_type": "code",
   "execution_count": 51,
   "metadata": {},
   "outputs": [],
   "source": [
    "classifier.save('Imgclassifier.h5')"
   ]
  },
  {
   "cell_type": "code",
   "execution_count": 11,
   "metadata": {},
   "outputs": [
    {
     "data": {
      "image/png": "[encoded data removed]",
      "text/plain": [
       "<Figure size 432x288 with 1 Axes>"
      ]
     },
     "metadata": {},
     "output_type": "display_data"
    }
   ],
   "source": [
    "plt.plot(history.history['acc'])\n",
    "plt.plot(history.history['val_acc'])\n",
    "plt.title('model accuracy')\n",
    "plt.ylabel('accuracy')\n",
    "plt.xlabel('epoch')\n",
    "plt.legend(['train', 'validation'], loc='upper left')\n",
    "plt.show()"
   ]
  },
  {
   "cell_type": "code",
   "execution_count": 13,
   "metadata": {},
   "outputs": [
    {
     "data": {
      "image/png": "[encoded data removed]",
      "text/plain": [
       "<Figure size 432x288 with 1 Axes>"
      ]
     },
     "metadata": {},
     "output_type": "display_data"
    }
   ],
   "source": [
    "plt.plot(history.history['loss'])\n",
    "plt.plot(history.history['val_loss'])\n",
    "plt.title('model accuracy')\n",
    "plt.ylabel('accuracy')\n",
    "plt.xlabel('epoch')\n",
    "plt.legend(['train', 'validation'], loc='upper right')\n",
    "plt.show()from"
   ]
  },
  {
   "cell_type": "code",
   "execution_count": null,
   "metadata": {},
   "outputs": [],
   "source": []
  },
  {
   "cell_type": "code",
   "execution_count": null,
   "metadata": {},
   "outputs": [],
   "source": []
  }
 ],
 "metadata": {
  "kernelspec": {
   "display_name": "Python 3",
   "language": "python",
   "name": "python3"
  },
  "language_info": {
   "codemirror_mode": {
    "name": "ipython",
    "version": 3
   },
   "file_extension": ".py",
   "mimetype": "text/x-python",
   "name": "python",
   "nbconvert_exporter": "python",
   "pygments_lexer": "ipython3",
   "version": "3.6.5"
  }
 },
 "nbformat": 4,
 "nbformat_minor": 2
}
